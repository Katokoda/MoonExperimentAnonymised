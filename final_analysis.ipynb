{
 "cells": [
  {
   "cell_type": "code",
   "id": "a9265b73",
   "metadata": {},
   "source": [
    "import pandas as pd\n",
    "import numpy as np\n",
    "import matplotlib.pyplot as plt\n",
    "import seaborn as sns\n",
    "from scipy import stats\n",
    "import statsmodels.api as sm\n",
    "from statsmodels.formula.api import ols\n",
    "from statsmodels.stats.power import FTestAnovaPower\n",
    "\n",
    "PREPROCESSED_DATA_PATH = 'data\\\\preprocess'\n",
    "IPS_PREPROCESS_DATA_PATH = PREPROCESSED_DATA_PATH + '\\\\IPS'\n",
    "PSI_PREPROCESS_DATA_PATH = PREPROCESSED_DATA_PATH + '\\\\PSI'"
   ],
   "outputs": [],
   "execution_count": null
  },
  {
   "cell_type": "markdown",
   "id": "5d733654",
   "metadata": {},
   "source": [
    "## Load and process the data"
   ]
  },
  {
   "cell_type": "code",
   "id": "28de46f2",
   "metadata": {},
   "source": [
    "df_psi = pd.read_csv(PSI_PREPROCESS_DATA_PATH + '\\\\PSI_.csv')\n",
    "df_ips = pd.read_csv(IPS_PREPROCESS_DATA_PATH + '\\\\IPS_.csv')"
   ],
   "outputs": [],
   "execution_count": null
  },
  {
   "cell_type": "code",
   "id": "6222fc4b",
   "metadata": {},
   "source": [
    "df_psi['Group'] = 'PSI'\n",
    "df_ips['Group'] = 'IPS'\n",
    "\n",
    "df = pd.concat([df_psi, df_ips], ignore_index=True)\n",
    "df = df.apply(lambda val: round(100*val/7, 2) if val.name == \"PreTest_grade\" else val)\n",
    "df = df.apply(lambda val: round(100*val/8, 2) if val.name == \"PostTest_grade\" else val)\n",
    "df.head()"
   ],
   "outputs": [],
   "execution_count": null
  },
  {
   "cell_type": "markdown",
   "id": "f62fd45e",
   "metadata": {},
   "source": [
    "## Basic ploting to understand more our participants"
   ]
  },
  {
   "cell_type": "code",
   "id": "901f7d41",
   "metadata": {},
   "source": [
    "# Plot age distribution\n",
    "plt.figure(figsize=(6,4))\n",
    "sns.countplot(\n",
    "    data=df,\n",
    "    x='Age',\n",
    "    hue='Group',\n",
    "    palette=['C0','C1']\n",
    ")\n",
    "plt.title('Age Distribution by Group')\n",
    "plt.xlabel('Age (years)')\n",
    "plt.ylabel('Count')\n",
    "plt.legend(title='Group')\n",
    "plt.tight_layout()\n",
    "plt.show()"
   ],
   "outputs": [],
   "execution_count": null
  },
  {
   "cell_type": "code",
   "id": "ba37275b",
   "metadata": {},
   "source": [
    "# Plot gender repartition\n",
    "plt.figure(figsize=(6,4))\n",
    "sns.countplot(\n",
    "    data=df,\n",
    "    x='Gender',\n",
    "    hue='Group',\n",
    "    palette=['C0','C1']\n",
    ")\n",
    "plt.title('Gender Count by Group')\n",
    "plt.xlabel('Gender')\n",
    "plt.ylabel('Count')\n",
    "plt.legend(title='Group')\n",
    "plt.tight_layout()\n",
    "plt.show()"
   ],
   "outputs": [],
   "execution_count": null
  },
  {
   "cell_type": "code",
   "id": "a9c00cf8",
   "metadata": {},
   "source": [
    "plt.figure(figsize=(8, 5))\n",
    "sns.countplot(data=df, x=\"Section\", hue=\"Group\")\n",
    "\n",
    "plt.title('Repartition of Sections by Group')\n",
    "plt.xlabel('Section')\n",
    "plt.ylabel('Number of Participants')\n",
    "plt.legend(title='Group')\n",
    "plt.xticks(rotation=90)  # Rotate x labels if they overlap\n",
    "plt.tight_layout()\n",
    "plt.show()"
   ],
   "outputs": [],
   "execution_count": null
  },
  {
   "cell_type": "code",
   "id": "23139b46",
   "metadata": {},
   "source": [
    "plt.figure(figsize=(8, 5))\n",
    "sns.countplot(data=df, x=\"Lived_region\", hue=\"Group\")\n",
    "\n",
    "plt.title('Repartition of Lived Region by Group')\n",
    "plt.xlabel('Lived Region')\n",
    "plt.ylabel('Number of Participants')\n",
    "plt.legend(title='Group')\n",
    "plt.xticks(rotation=90)\n",
    "plt.tight_layout()\n",
    "plt.show()"
   ],
   "outputs": [],
   "execution_count": null
  },
  {
   "cell_type": "code",
   "id": "a3ceef54",
   "metadata": {},
   "source": [
    "plt.figure(figsize=(8, 5))\n",
    "sns.countplot(data=df, x=\"Program\", hue=\"Group\")\n",
    "\n",
    "plt.title('Repartition of Program by Group')\n",
    "plt.xlabel('Program')\n",
    "plt.ylabel('Number of Participants')\n",
    "plt.legend(title='Group')\n",
    "plt.xticks(rotation=30)\n",
    "plt.tight_layout()\n",
    "plt.show()"
   ],
   "outputs": [],
   "execution_count": null
  },
  {
   "cell_type": "markdown",
   "id": "a151325f",
   "metadata": {},
   "source": [
    "## Statistical observations"
   ]
  },
  {
   "cell_type": "markdown",
   "id": "1c7c91d2",
   "metadata": {},
   "source": [
    "### Learning gain"
   ]
  },
  {
   "cell_type": "code",
   "id": "18759004",
   "metadata": {},
   "source": [
    "# Compute improvement\n",
    "df['Learning_Gain'] = df['PostTest_grade'] - df['PreTest_grade']\n",
    "\n",
    "# Summary stats by condition\n",
    "summary = ( df\n",
    "  .groupby('Group')[['PreTest_grade','PostTest_grade','Learning_Gain']]\n",
    "  .agg(['count','mean','std','median'])\n",
    ")\n",
    "summary"
   ],
   "outputs": [],
   "execution_count": null
  },
  {
   "metadata": {},
   "cell_type": "code",
   "source": [
    "# This was done by Sam using chatGPT\n",
    "\n",
    "MyTicksNames = ['PreTest', 'PostTest']\n",
    "MyTicks = np.array([0, 1])\n",
    "littleSummary = ( df\n",
    "  .groupby('Group')[['PreTest_grade','PostTest_grade']]\n",
    "  .agg(['mean'])\n",
    ")\n",
    "my_PSI_Results = df.loc[df[\"Group\"] == \"PSI\", [\"PreTest_grade\",\"PostTest_grade\"]]\n",
    "my_IPS_Results = df.loc[df[\"Group\"] == \"IPS\", [\"PreTest_grade\",\"PostTest_grade\"]]\n",
    "\n",
    "# Plotting\n",
    "fig, ax = plt.subplots(figsize=(6, 4))\n",
    "myEpsilon = 0.05\n",
    "\n",
    "# Plotting PSI\n",
    "ax.plot    (MyTicks - myEpsilon, list(littleSummary.loc[\"PSI\"]), marker='o', label='PSI', color='blue')\n",
    "ax.boxplot(my_PSI_Results,\n",
    "           positions = [- myEpsilon, 1 - myEpsilon],\n",
    "           widths=myEpsilon*2)\n",
    "\n",
    "# Plotting IPS\n",
    "ax.plot    (MyTicks + myEpsilon, list(littleSummary.loc[\"IPS\"]), marker='s', label='IPS', color='red')\n",
    "ax.boxplot(my_IPS_Results,\n",
    "           positions = [  myEpsilon, 1 + myEpsilon],\n",
    "           widths=myEpsilon*2)\n",
    "\n",
    "# Labels and title\n",
    "ax.set_xticks([0, 1])\n",
    "ax.set_xticklabels(MyTicksNames)\n",
    "ax.set_xlabel('Tests')\n",
    "ax.set_ylabel('Percentages')\n",
    "ax.set_title('Interaction Plot with mean and boxplots')\n",
    "ax.legend()\n",
    "\n",
    "# Display the plot\n",
    "plt.tight_layout()\n",
    "plt.show()"
   ],
   "id": "8168a0e3e8b1946e",
   "outputs": [],
   "execution_count": null
  },
  {
   "cell_type": "code",
   "id": "908ae12c",
   "metadata": {},
   "source": [
    "# Box‐plot of improvements\n",
    "plt.figure(figsize=(6,4))\n",
    "ax = sns.boxplot(\n",
    "    data=df,\n",
    "    x='Group',\n",
    "    y='Learning_Gain',\n",
    "    hue='Group',\n",
    "    palette=['C0','C1']\n",
    ")\n",
    "ax.set_title('Score Improvement by Group')\n",
    "ax.set_ylabel('PostTest – PreTest')\n",
    "plt.tight_layout()\n",
    "plt.show()\n"
   ],
   "outputs": [],
   "execution_count": null
  },
  {
   "cell_type": "markdown",
   "id": "4e8becf4",
   "metadata": {},
   "source": [
    "### Pearson r"
   ]
  },
  {
   "cell_type": "code",
   "id": "e97de961",
   "metadata": {},
   "source": [
    "r, p = stats.pearsonr(df_psi['PS time taken (in s)'], df_psi['PostTest_grade'])\n",
    "print(f\"r = {r:.3f}, p = {p:.3f}\")\n",
    "sns.regplot(x='PS time taken (in s)', y='PostTest_grade', data=df_psi)\n",
    "plt.show()"
   ],
   "outputs": [],
   "execution_count": null
  },
  {
   "cell_type": "markdown",
   "id": "f4420acb",
   "metadata": {},
   "source": [
    "The p-value is 0.005 < 0.05, thus the effect on the time spend doing the PS part is statisticaly significant on the `PostTest_grade`. We also observe a very strong, positive linear relationship between the two variables(`PostTest_grade` and `PS time taken (in s)`), as showned by the r-value = 0,874. This means that the grade tends to be higher if the participant spended more time in the PS part."
   ]
  },
  {
   "cell_type": "markdown",
   "id": "9c162497",
   "metadata": {},
   "source": [
    "### One-way ANOVA & t-test"
   ]
  },
  {
   "cell_type": "code",
   "id": "71682a86",
   "metadata": {},
   "source": [
    "# Fit the model\n",
    "model = ols('Learning_Gain ~ C(Group)', data=df).fit()\n",
    "anova_table = sm.stats.anova_lm(model, typ=2)\n",
    "anova_table"
   ],
   "outputs": [],
   "execution_count": null
  },
  {
   "cell_type": "code",
   "id": "dfd2e154",
   "metadata": {},
   "source": [
    "imp_psi = df.loc[df.Group=='PSI','Learning_Gain']\n",
    "imp_ips = df.loc[df.Group=='IPS','Learning_Gain']\n",
    "\n",
    "t_stat, p_val = stats.ttest_ind(imp_psi, imp_ips, equal_var=True)\n",
    "print(f\"t = {t_stat:.3f}, p = {p_val:.3f}\")"
   ],
   "outputs": [],
   "execution_count": null
  },
  {
   "cell_type": "markdown",
   "id": "06a02e49",
   "metadata": {},
   "source": "Since the p-value = 0.744 >> 0.05, we have no evidence of a statistical significance in belonging at one of the two groups, as shown by the one-way ANOVA and the t-test."
  },
  {
   "cell_type": "markdown",
   "id": "77f1493d",
   "metadata": {},
   "source": [
    "### Cohen's d\n",
    "\n",
    "Cohen’s d is a standardized measure of effect size. It tells you how big the difference between two group means is, in units of their common variability, rather than in the raw score metric (d is unitless).\n",
    "\n",
    "A rough benchmark originally proposed by Jacob Cohen is:\n",
    "* d≈0.2 “small” effect\n",
    "* d≈0.5 “medium” effect\n",
    "* d≈0.8 “large” effect\n",
    "\n",
    "In practice, if we got d=0.5 that mean that on average, the mean of Group 1 sits half a standard deviation above the mean of Group 2. If you randomly pick someone from each group, there’s roughly a 64% chance the Group 1 score is higher.\n",
    "\n",
    "**Why are we using it?**\n",
    "\n",
    "The p-values tell us whether an effect is likely “real” (statistically significant), but it depend heavily on the sample size. Cohen’s d tells you how large that effect is, independently of sample size.\n",
    "Nevertheless, for small samples like our one, Cohen’s d can overestimate the “true” population effect size.\n",
    "\n",
    "Futhermore, this value will be useful when conducting a Power Analysis."
   ]
  },
  {
   "cell_type": "code",
   "id": "ae78d188",
   "metadata": {},
   "source": [
    "def cohens_d(x, y):\n",
    "    nx, ny = len(x), len(y)\n",
    "    sx = x.std(ddof=1); sy = y.std(ddof=1)\n",
    "    pooled_sd = np.sqrt(((nx-1)*sx**2 + (ny-1)*sy**2) / (nx+ny-2))\n",
    "    return (x.mean() - y.mean()) / pooled_sd\n",
    "    \n",
    "d = cohens_d(imp_psi, imp_ips)\n",
    "print(f\"Cohen’s d (PSI vs IPS learning gain): {d:.3f}\")"
   ],
   "outputs": [],
   "execution_count": null
  },
  {
   "cell_type": "markdown",
   "id": "0d0c810d",
   "metadata": {},
   "source": [
    "On average, the PSI group improved slightly less than the IPS group. But the effect seems negligible according to Cohen benchmark. The two methods produced almost identical mean gains in our sample. This also support our previous observation made with the one-way ANOVA."
   ]
  },
  {
   "cell_type": "markdown",
   "id": "66133b84",
   "metadata": {},
   "source": [
    "### Power Analysis"
   ]
  },
  {
   "cell_type": "code",
   "id": "90a5b749",
   "metadata": {},
   "source": [
    "effect_size = abs(d) / 2 # Convert Cohen's d to effect size for ANOVA\n",
    "nobs = 16\n",
    "alpha = 0.05"
   ],
   "outputs": [],
   "execution_count": null
  },
  {
   "cell_type": "code",
   "id": "e5eb3610",
   "metadata": {},
   "source": [
    "analysis = FTestAnovaPower()\n",
    "power = analysis.power(effect_size, nobs, alpha)\n",
    "print(f\"Achieved power: {power:.3f}\")"
   ],
   "outputs": [],
   "execution_count": null
  },
  {
   "cell_type": "code",
   "id": "a35523fe",
   "metadata": {},
   "source": [
    "required_n = analysis.solve_power(effect_size, None, alpha, 0.8)\n",
    "print(f\"Required total sample size for 80% power: {required_n:.0f}\")"
   ],
   "outputs": [],
   "execution_count": null
  },
  {
   "cell_type": "markdown",
   "id": "cc318825",
   "metadata": {},
   "source": [
    "The power analysis showes an extremely low achived power (0.058). This indicate a highly probable Type II error (failure to detect a true effect if one exists). To achieve 80% power for an effect of this size, an estimated 1572 participants would be required. Therefore, the current study is underpowered."
   ]
  }
 ],
 "metadata": {
  "kernelspec": {
   "display_name": "base",
   "language": "python",
   "name": "python3"
  },
  "language_info": {
   "codemirror_mode": {
    "name": "ipython",
    "version": 3
   },
   "file_extension": ".py",
   "mimetype": "text/x-python",
   "name": "python",
   "nbconvert_exporter": "python",
   "pygments_lexer": "ipython3",
   "version": "3.12.7"
  }
 },
 "nbformat": 4,
 "nbformat_minor": 5
}
